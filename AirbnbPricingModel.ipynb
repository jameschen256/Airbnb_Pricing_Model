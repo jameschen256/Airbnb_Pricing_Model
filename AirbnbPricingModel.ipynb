{
  "nbformat": 4,
  "nbformat_minor": 0,
  "metadata": {
    "colab": {
      "provenance": []
    },
    "kernelspec": {
      "name": "python3",
      "display_name": "Python 3"
    },
    "language_info": {
      "name": "python"
    }
  },
  "cells": [
    {
      "cell_type": "code",
      "execution_count": null,
      "metadata": {
        "id": "9jvOYFehENNB"
      },
      "outputs": [],
      "source": [
        "import numpy as np\n",
        "import csv\n",
        "import matplotlib.pyplot as plt  # To visualize\n",
        "import pandas as pd  # To read data\n",
        "\n",
        "import numpy as np\n",
        "import matplotlib.pyplot as plt  # To visualize\n",
        "import pandas as pd  # To read data\n",
        "from sklearn.linear_model import LinearRegression\n",
        "from sklearn import metrics\n",
        "from sklearn.model_selection import train_test_split\n",
        "from sklearn.metrics import r2_score"
      ]
    },
    {
      "cell_type": "code",
      "source": [
        "#Load and clean data\n",
        "data = pd.read_csv('nyc_airbnb_rentals_final.csv', delimiter = '|')  # load data set\n",
        "Y = data[\"price\"]\n",
        "X0 = data[[\"beds\", \"bedrooms\",\"accommodates\", \"review_scores_rating\", \"review_scores_accuracy\",\n",
        "              \"review_scores_cleanliness\",\t\"review_scores_checkin\",\"review_scores_communication\",\"review_scores_location\",\t\"review_scores_value\",\n",
        "              \"number_of_reviews\", \"neighbourhood_group_cleansed\", \"room_type\"]]\n",
        "# if none, neighbourhood group is bronx\n",
        "# if none, room type is entire home/apt\n",
        "X = pd.get_dummies(X0, columns=[\"neighbourhood_group_cleansed\", \"room_type\"])\n",
        "X_train, X_test, Y_train, Y_test = train_test_split(X,Y, test_size = 0.3, random_state = 42)\n",
        "\n",
        "linear_regressor = LinearRegression()\n",
        "linear_regressor.fit(X_train, Y_train)\n"
      ],
      "metadata": {
        "colab": {
          "base_uri": "https://localhost:8080/"
        },
        "id": "gWKX9gbIPwfO",
        "outputId": "726c7521-cc29-47cf-cdb4-06ffb5ff337f"
      },
      "execution_count": null,
      "outputs": [
        {
          "output_type": "execute_result",
          "data": {
            "text/plain": [
              "LinearRegression()"
            ]
          },
          "metadata": {},
          "execution_count": 6
        }
      ]
    },
    {
      "cell_type": "code",
      "source": [
        "print(linear_regressor.intercept_)\n",
        "print(linear_regressor.coef_) #weight of each input\n",
        "list(zip(X.columns, linear_regressor.coef_))\n"
      ],
      "metadata": {
        "colab": {
          "base_uri": "https://localhost:8080/"
        },
        "id": "DhsBBAzQddDZ",
        "outputId": "c2cf8f2b-6de8-47f7-bdd9-449e30195712"
      },
      "execution_count": null,
      "outputs": [
        {
          "output_type": "stream",
          "name": "stdout",
          "text": [
            "-14.003111878896505\n",
            "[-2.35252745e-01  2.99932315e+01  2.42584986e+01  5.86055339e+00\n",
            " -1.11277499e+01  2.65679876e+01 -7.06253239e+00 -4.49511979e+00\n",
            "  2.87457658e+01 -1.70944118e+01 -1.19759441e-01 -1.46164252e+01\n",
            "  1.63043062e+00  5.82490221e+01 -1.57361740e+01 -2.95268535e+01\n",
            " -4.12694741e+01  2.10232043e+02 -8.00036478e+01 -8.89589216e+01]\n"
          ]
        },
        {
          "output_type": "execute_result",
          "data": {
            "text/plain": [
              "[('beds', -0.23525274466106602),\n",
              " ('bedrooms', 29.993231452701707),\n",
              " ('accommodates', 24.25849855135797),\n",
              " ('review_scores_rating', 5.8605533933970335),\n",
              " ('review_scores_accuracy', -11.127749926578018),\n",
              " ('review_scores_cleanliness', 26.567987619104443),\n",
              " ('review_scores_checkin', -7.062532387737947),\n",
              " ('review_scores_communication', -4.495119792851293),\n",
              " ('review_scores_location', 28.74576583218177),\n",
              " ('review_scores_value', -17.09441176410809),\n",
              " ('number_of_reviews', -0.11975944129322037),\n",
              " ('neighbourhood_group_cleansed_Bronx', -14.61642519902987),\n",
              " ('neighbourhood_group_cleansed_Brooklyn', 1.6304306199477419),\n",
              " ('neighbourhood_group_cleansed_Manhattan', 58.249022095615736),\n",
              " ('neighbourhood_group_cleansed_Queens', -15.736174038506341),\n",
              " ('neighbourhood_group_cleansed_Staten Island', -29.526853478026926),\n",
              " ('room_type_Entire home/apt', -41.269474072964115),\n",
              " ('room_type_Hotel room', 210.2320434646581),\n",
              " ('room_type_Private room', -80.00364778058488),\n",
              " ('room_type_Shared room', -88.95892161110883)]"
            ]
          },
          "metadata": {},
          "execution_count": 7
        }
      ]
    },
    {
      "cell_type": "code",
      "source": [
        "feature_importance = pd.DataFrame(list(zip(X.columns, linear_regressor.coef_)))\n",
        "\n",
        "feature_importance.columns=['feature', 'coefficient']\n",
        "\n",
        "feature_importance.sort_values(by=\"coefficient\", ascending=False)\n"
      ],
      "metadata": {
        "colab": {
          "base_uri": "https://localhost:8080/",
          "height": 537
        },
        "id": "S-EdgF4lis2y",
        "outputId": "07e8657a-745d-4b25-9aa6-bf82842ec6bd"
      },
      "execution_count": null,
      "outputs": [
        {
          "output_type": "execute_result",
          "data": {
            "text/plain": [
              "                                       feature  coefficient\n",
              "17                        room_type_Hotel room   210.232043\n",
              "13      neighbourhood_group_cleansed_Manhattan    58.249022\n",
              "1                                     bedrooms    29.993231\n",
              "8                       review_scores_location    28.745766\n",
              "5                    review_scores_cleanliness    26.567988\n",
              "2                                 accommodates    24.258499\n",
              "3                         review_scores_rating     5.860553\n",
              "12       neighbourhood_group_cleansed_Brooklyn     1.630431\n",
              "10                           number_of_reviews    -0.119759\n",
              "0                                         beds    -0.235253\n",
              "7                  review_scores_communication    -4.495120\n",
              "6                        review_scores_checkin    -7.062532\n",
              "4                       review_scores_accuracy   -11.127750\n",
              "11          neighbourhood_group_cleansed_Bronx   -14.616425\n",
              "14         neighbourhood_group_cleansed_Queens   -15.736174\n",
              "9                          review_scores_value   -17.094412\n",
              "15  neighbourhood_group_cleansed_Staten Island   -29.526853\n",
              "16                   room_type_Entire home/apt   -41.269474\n",
              "18                      room_type_Private room   -80.003648\n",
              "19                       room_type_Shared room   -88.958922"
            ],
            "text/html": [
              "\n",
              "  <div id=\"df-31d63bf0-7935-4ade-9f14-12d0b2da60e2\">\n",
              "    <div class=\"colab-df-container\">\n",
              "      <div>\n",
              "<style scoped>\n",
              "    .dataframe tbody tr th:only-of-type {\n",
              "        vertical-align: middle;\n",
              "    }\n",
              "\n",
              "    .dataframe tbody tr th {\n",
              "        vertical-align: top;\n",
              "    }\n",
              "\n",
              "    .dataframe thead th {\n",
              "        text-align: right;\n",
              "    }\n",
              "</style>\n",
              "<table border=\"1\" class=\"dataframe\">\n",
              "  <thead>\n",
              "    <tr style=\"text-align: right;\">\n",
              "      <th></th>\n",
              "      <th>feature</th>\n",
              "      <th>coefficient</th>\n",
              "    </tr>\n",
              "  </thead>\n",
              "  <tbody>\n",
              "    <tr>\n",
              "      <th>17</th>\n",
              "      <td>room_type_Hotel room</td>\n",
              "      <td>210.232043</td>\n",
              "    </tr>\n",
              "    <tr>\n",
              "      <th>13</th>\n",
              "      <td>neighbourhood_group_cleansed_Manhattan</td>\n",
              "      <td>58.249022</td>\n",
              "    </tr>\n",
              "    <tr>\n",
              "      <th>1</th>\n",
              "      <td>bedrooms</td>\n",
              "      <td>29.993231</td>\n",
              "    </tr>\n",
              "    <tr>\n",
              "      <th>8</th>\n",
              "      <td>review_scores_location</td>\n",
              "      <td>28.745766</td>\n",
              "    </tr>\n",
              "    <tr>\n",
              "      <th>5</th>\n",
              "      <td>review_scores_cleanliness</td>\n",
              "      <td>26.567988</td>\n",
              "    </tr>\n",
              "    <tr>\n",
              "      <th>2</th>\n",
              "      <td>accommodates</td>\n",
              "      <td>24.258499</td>\n",
              "    </tr>\n",
              "    <tr>\n",
              "      <th>3</th>\n",
              "      <td>review_scores_rating</td>\n",
              "      <td>5.860553</td>\n",
              "    </tr>\n",
              "    <tr>\n",
              "      <th>12</th>\n",
              "      <td>neighbourhood_group_cleansed_Brooklyn</td>\n",
              "      <td>1.630431</td>\n",
              "    </tr>\n",
              "    <tr>\n",
              "      <th>10</th>\n",
              "      <td>number_of_reviews</td>\n",
              "      <td>-0.119759</td>\n",
              "    </tr>\n",
              "    <tr>\n",
              "      <th>0</th>\n",
              "      <td>beds</td>\n",
              "      <td>-0.235253</td>\n",
              "    </tr>\n",
              "    <tr>\n",
              "      <th>7</th>\n",
              "      <td>review_scores_communication</td>\n",
              "      <td>-4.495120</td>\n",
              "    </tr>\n",
              "    <tr>\n",
              "      <th>6</th>\n",
              "      <td>review_scores_checkin</td>\n",
              "      <td>-7.062532</td>\n",
              "    </tr>\n",
              "    <tr>\n",
              "      <th>4</th>\n",
              "      <td>review_scores_accuracy</td>\n",
              "      <td>-11.127750</td>\n",
              "    </tr>\n",
              "    <tr>\n",
              "      <th>11</th>\n",
              "      <td>neighbourhood_group_cleansed_Bronx</td>\n",
              "      <td>-14.616425</td>\n",
              "    </tr>\n",
              "    <tr>\n",
              "      <th>14</th>\n",
              "      <td>neighbourhood_group_cleansed_Queens</td>\n",
              "      <td>-15.736174</td>\n",
              "    </tr>\n",
              "    <tr>\n",
              "      <th>9</th>\n",
              "      <td>review_scores_value</td>\n",
              "      <td>-17.094412</td>\n",
              "    </tr>\n",
              "    <tr>\n",
              "      <th>15</th>\n",
              "      <td>neighbourhood_group_cleansed_Staten Island</td>\n",
              "      <td>-29.526853</td>\n",
              "    </tr>\n",
              "    <tr>\n",
              "      <th>16</th>\n",
              "      <td>room_type_Entire home/apt</td>\n",
              "      <td>-41.269474</td>\n",
              "    </tr>\n",
              "    <tr>\n",
              "      <th>18</th>\n",
              "      <td>room_type_Private room</td>\n",
              "      <td>-80.003648</td>\n",
              "    </tr>\n",
              "    <tr>\n",
              "      <th>19</th>\n",
              "      <td>room_type_Shared room</td>\n",
              "      <td>-88.958922</td>\n",
              "    </tr>\n",
              "  </tbody>\n",
              "</table>\n",
              "</div>\n",
              "      <button class=\"colab-df-convert\" onclick=\"convertToInteractive('df-31d63bf0-7935-4ade-9f14-12d0b2da60e2')\"\n",
              "              title=\"Convert this dataframe to an interactive table.\"\n",
              "              style=\"display:none;\">\n",
              "        \n",
              "  <svg xmlns=\"http://www.w3.org/2000/svg\" height=\"24px\"viewBox=\"0 0 24 24\"\n",
              "       width=\"24px\">\n",
              "    <path d=\"M0 0h24v24H0V0z\" fill=\"none\"/>\n",
              "    <path d=\"M18.56 5.44l.94 2.06.94-2.06 2.06-.94-2.06-.94-.94-2.06-.94 2.06-2.06.94zm-11 1L8.5 8.5l.94-2.06 2.06-.94-2.06-.94L8.5 2.5l-.94 2.06-2.06.94zm10 10l.94 2.06.94-2.06 2.06-.94-2.06-.94-.94-2.06-.94 2.06-2.06.94z\"/><path d=\"M17.41 7.96l-1.37-1.37c-.4-.4-.92-.59-1.43-.59-.52 0-1.04.2-1.43.59L10.3 9.45l-7.72 7.72c-.78.78-.78 2.05 0 2.83L4 21.41c.39.39.9.59 1.41.59.51 0 1.02-.2 1.41-.59l7.78-7.78 2.81-2.81c.8-.78.8-2.07 0-2.86zM5.41 20L4 18.59l7.72-7.72 1.47 1.35L5.41 20z\"/>\n",
              "  </svg>\n",
              "      </button>\n",
              "      \n",
              "  <style>\n",
              "    .colab-df-container {\n",
              "      display:flex;\n",
              "      flex-wrap:wrap;\n",
              "      gap: 12px;\n",
              "    }\n",
              "\n",
              "    .colab-df-convert {\n",
              "      background-color: #E8F0FE;\n",
              "      border: none;\n",
              "      border-radius: 50%;\n",
              "      cursor: pointer;\n",
              "      display: none;\n",
              "      fill: #1967D2;\n",
              "      height: 32px;\n",
              "      padding: 0 0 0 0;\n",
              "      width: 32px;\n",
              "    }\n",
              "\n",
              "    .colab-df-convert:hover {\n",
              "      background-color: #E2EBFA;\n",
              "      box-shadow: 0px 1px 2px rgba(60, 64, 67, 0.3), 0px 1px 3px 1px rgba(60, 64, 67, 0.15);\n",
              "      fill: #174EA6;\n",
              "    }\n",
              "\n",
              "    [theme=dark] .colab-df-convert {\n",
              "      background-color: #3B4455;\n",
              "      fill: #D2E3FC;\n",
              "    }\n",
              "\n",
              "    [theme=dark] .colab-df-convert:hover {\n",
              "      background-color: #434B5C;\n",
              "      box-shadow: 0px 1px 3px 1px rgba(0, 0, 0, 0.15);\n",
              "      filter: drop-shadow(0px 1px 2px rgba(0, 0, 0, 0.3));\n",
              "      fill: #FFFFFF;\n",
              "    }\n",
              "  </style>\n",
              "\n",
              "      <script>\n",
              "        const buttonEl =\n",
              "          document.querySelector('#df-31d63bf0-7935-4ade-9f14-12d0b2da60e2 button.colab-df-convert');\n",
              "        buttonEl.style.display =\n",
              "          google.colab.kernel.accessAllowed ? 'block' : 'none';\n",
              "\n",
              "        async function convertToInteractive(key) {\n",
              "          const element = document.querySelector('#df-31d63bf0-7935-4ade-9f14-12d0b2da60e2');\n",
              "          const dataTable =\n",
              "            await google.colab.kernel.invokeFunction('convertToInteractive',\n",
              "                                                     [key], {});\n",
              "          if (!dataTable) return;\n",
              "\n",
              "          const docLinkHtml = 'Like what you see? Visit the ' +\n",
              "            '<a target=\"_blank\" href=https://colab.research.google.com/notebooks/data_table.ipynb>data table notebook</a>'\n",
              "            + ' to learn more about interactive tables.';\n",
              "          element.innerHTML = '';\n",
              "          dataTable['output_type'] = 'display_data';\n",
              "          await google.colab.output.renderOutput(dataTable, element);\n",
              "          const docLink = document.createElement('div');\n",
              "          docLink.innerHTML = docLinkHtml;\n",
              "          element.appendChild(docLink);\n",
              "        }\n",
              "      </script>\n",
              "    </div>\n",
              "  </div>\n",
              "  "
            ]
          },
          "metadata": {},
          "execution_count": 8
        }
      ]
    },
    {
      "cell_type": "code",
      "source": [
        "Y_pred = linear_regressor.predict(X_test)"
      ],
      "metadata": {
        "id": "vIRuWUf8fAHS"
      },
      "execution_count": null,
      "outputs": []
    },
    {
      "cell_type": "code",
      "source": [
        "data['room_type'].value_counts()"
      ],
      "metadata": {
        "colab": {
          "base_uri": "https://localhost:8080/"
        },
        "id": "S5Li3o2Vj0Lr",
        "outputId": "5ee78dce-615f-4f83-e2fc-9996887375dd"
      },
      "execution_count": null,
      "outputs": [
        {
          "output_type": "execute_result",
          "data": {
            "text/plain": [
              "Entire home/apt    20127\n",
              "Private room       16990\n",
              "Shared room          560\n",
              "Hotel room           168\n",
              "Name: room_type, dtype: int64"
            ]
          },
          "metadata": {},
          "execution_count": 12
        }
      ]
    },
    {
      "cell_type": "code",
      "source": [
        "import R as sns\n",
        "\n",
        "import matplotlib.pyplot as plt\n",
        "\n",
        "#plt.scatter(X_test['review_scores_location'], Y_pred, color=\"green\")\n",
        "plt.scatter(X_test['review_scores_location'], Y_pred, color=\"green\")\n"
      ],
      "metadata": {
        "colab": {
          "base_uri": "https://localhost:8080/",
          "height": 283
        },
        "id": "kK05j4FbkCrL",
        "outputId": "70466a4d-edfc-4b38-e939-66f272fb6f39"
      },
      "execution_count": null,
      "outputs": [
        {
          "output_type": "execute_result",
          "data": {
            "text/plain": [
              "<matplotlib.collections.PathCollection at 0x7fec470880d0>"
            ]
          },
          "metadata": {},
          "execution_count": 21
        },
        {
          "output_type": "display_data",
          "data": {
            "text/plain": [
              "<Figure size 432x288 with 1 Axes>"
            ],
            "image/png": "[encoded data removed]"
          },
          "metadata": {
            "needs_background": "light"
          }
        }
      ]
    },
    {
      "cell_type": "code",
      "source": [
        "plt.scatter(X_test['review_scores_location'], Y_test, color=\"blue\")"
      ],
      "metadata": {
        "colab": {
          "base_uri": "https://localhost:8080/",
          "height": 283
        },
        "id": "-7smiG5-l7jl",
        "outputId": "1bcb454a-534e-43db-8efb-c22ac5c3bdf7"
      },
      "execution_count": null,
      "outputs": [
        {
          "output_type": "execute_result",
          "data": {
            "text/plain": [
              "<matplotlib.collections.PathCollection at 0x7fec45ad9950>"
            ]
          },
          "metadata": {},
          "execution_count": 14
        },
        {
          "output_type": "display_data",
          "data": {
            "text/plain": [
              "<Figure size 432x288 with 1 Axes>"
            ],
            "image/png": "[encoded data removed]"
          },
          "metadata": {
            "needs_background": "light"
          }
        }
      ]
    },
    {
      "cell_type": "code",
      "source": [
        "room_type_pd=data.groupby('room_type')['price'].mean().reset_index()\n",
        "room_type_pd\n",
        "\n",
        "sns.barplot(data=data, x=\"room_type\", y=\"price\")"
      ],
      "metadata": {
        "colab": {
          "base_uri": "https://localhost:8080/",
          "height": 299
        },
        "id": "JlSQ7xJImK6C",
        "outputId": "854f5649-6d97-4e28-fdec-e92db20ceaab"
      },
      "execution_count": null,
      "outputs": [
        {
          "output_type": "execute_result",
          "data": {
            "text/plain": [
              "<matplotlib.axes._subplots.AxesSubplot at 0x7fec468520d0>"
            ]
          },
          "metadata": {},
          "execution_count": 15
        },
        {
          "output_type": "display_data",
          "data": {
            "text/plain": [
              "<Figure size 432x288 with 1 Axes>"
            ],
            "image/png": "[encoded data removed]"
          },
          "metadata": {
            "needs_background": "light"
          }
        }
      ]
    },
    {
      "cell_type": "code",
      "source": [
        "pd_result=pd.concat([X_test, Y_test], axis=1)\n",
        "\n",
        "pd_result['Y_pred']=Y_pred\n",
        "\n",
        "plt.scatter(pd_result['bedrooms'], pd_result['price'])\n",
        "\n",
        "plt.scatter(pd_result['bedrooms'], pd_result['Y_pred'], color=\"red\")\n"
      ],
      "metadata": {
        "colab": {
          "base_uri": "https://localhost:8080/",
          "height": 283
        },
        "id": "GWApove2oyGK",
        "outputId": "1920f988-b2ce-42ff-8a2e-e0da934887d7"
      },
      "execution_count": null,
      "outputs": [
        {
          "output_type": "execute_result",
          "data": {
            "text/plain": [
              "<matplotlib.collections.PathCollection at 0x7fec45efef90>"
            ]
          },
          "metadata": {},
          "execution_count": 16
        },
        {
          "output_type": "display_data",
          "data": {
            "text/plain": [
              "<Figure size 432x288 with 1 Axes>"
            ],
            "image/png": "[encoded data removed]"
          },
          "metadata": {
            "needs_background": "light"
          }
        }
      ]
    },
    {
      "cell_type": "code",
      "source": [
        "\n",
        "\n",
        "sns.barplot(data=pd_result, x=\"neighbourhood_group_cleansed_Queens\", y=\"price\")"
      ],
      "metadata": {
        "colab": {
          "base_uri": "https://localhost:8080/",
          "height": 297
        },
        "id": "5xZlDHZH24eA",
        "outputId": "525e7885-b229-4654-dac0-934e062f65c4"
      },
      "execution_count": null,
      "outputs": [
        {
          "output_type": "execute_result",
          "data": {
            "text/plain": [
              "<matplotlib.axes._subplots.AxesSubplot at 0x7fec46ec70d0>"
            ]
          },
          "metadata": {},
          "execution_count": 26
        },
        {
          "output_type": "display_data",
          "data": {
            "text/plain": [
              "<Figure size 432x288 with 1 Axes>"
            ],
            "image/png": "[encoded data removed]"
          },
          "metadata": {
            "needs_background": "light"
          }
        }
      ]
    },
    {
      "cell_type": "code",
      "source": [
        "pd_result.columns"
      ],
      "metadata": {
        "colab": {
          "base_uri": "https://localhost:8080/"
        },
        "id": "7CMbgSKBp3pS",
        "outputId": "db277ad7-8758-40d9-cd55-bad2a1b0f0ab"
      },
      "execution_count": null,
      "outputs": [
        {
          "output_type": "execute_result",
          "data": {
            "text/plain": [
              "Index([                                      'beds',\n",
              "                                         'bedrooms',\n",
              "                                     'accommodates',\n",
              "                             'review_scores_rating',\n",
              "                           'review_scores_accuracy',\n",
              "                        'review_scores_cleanliness',\n",
              "                            'review_scores_checkin',\n",
              "                      'review_scores_communication',\n",
              "                           'review_scores_location',\n",
              "                              'review_scores_value',\n",
              "                                'number_of_reviews',\n",
              "            'neighbourhood_group_cleansed_Brooklyn',\n",
              "           'neighbourhood_group_cleansed_Manhattan',\n",
              "              'neighbourhood_group_cleansed_Queens',\n",
              "       'neighbourhood_group_cleansed_Staten Island',\n",
              "                             'room_type_Hotel room',\n",
              "                           'room_type_Private room',\n",
              "                            'room_type_Shared room',\n",
              "                                               78.0,\n",
              "                                            'price',\n",
              "                                           'Y_pred'],\n",
              "      dtype='object')"
            ]
          },
          "metadata": {},
          "execution_count": 175
        }
      ]
    },
    {
      "cell_type": "code",
      "source": [
        "print(metrics.mean_absolute_error(Y_test, Y_pred))\n",
        "print(metrics.mean_squared_error(Y_test, Y_pred))\n",
        "print(np.sqrt(metrics.mean_squared_error(Y_test, Y_pred)))\n",
        "print(r2_score(Y_test, Y_pred))"
      ],
      "metadata": {
        "colab": {
          "base_uri": "https://localhost:8080/"
        },
        "id": "HF-Qj_-ufHYD",
        "outputId": "cafb7a5f-4684-4810-a085-8307f9f8f4e4"
      },
      "execution_count": null,
      "outputs": [
        {
          "output_type": "stream",
          "name": "stdout",
          "text": [
            "62.66084065219965\n",
            "10407.115865554933\n",
            "102.01527270734972\n",
            "0.37350598827526404\n"
          ]
        }
      ]
    },
    {
      "cell_type": "code",
      "source": [
        "data = pd.read_csv('nyc_airbnb_rentals_final.csv', delimiter = '|')  # load data set\n",
        "#data['amenities'].apply(pd.Series)\n",
        "#data.describe()\n",
        "pd.options.display.max_colwidth = 150\n",
        "data.iloc[:,25:40]\n"
      ],
      "metadata": {
        "colab": {
          "base_uri": "https://localhost:8080/",
          "height": 487
        },
        "id": "QWXRFOxhO2ut",
        "outputId": "247ff5ef-4c50-44c6-e826-44a4610be304"
      },
      "execution_count": null,
      "outputs": [
        {
          "output_type": "execute_result",
          "data": {
            "text/plain": [
              "       maximum_nights  number_of_reviews  number_of_reviews_ltm  \\\n",
              "0                1125                 48                      0   \n",
              "1                 730                409                     32   \n",
              "2                 730                 50                      0   \n",
              "3                1125                  2                      1   \n",
              "4                  14                507                     33   \n",
              "...               ...                ...                    ...   \n",
              "37840            1125                  0                      0   \n",
              "37841            1125                  0                      0   \n",
              "37842            1125                  0                      0   \n",
              "37843            1125                  0                      0   \n",
              "37844              28                  0                      0   \n",
              "\n",
              "       number_of_reviews_l30d  review_scores_rating  review_scores_accuracy  \\\n",
              "0                           0                  4.70                    4.72   \n",
              "1                           0                  4.45                    4.58   \n",
              "2                           0                  4.52                    4.22   \n",
              "3                           0                  5.00                    5.00   \n",
              "4                           2                  4.21                    4.21   \n",
              "...                       ...                   ...                     ...   \n",
              "37840                       0                  4.82                    4.90   \n",
              "37841                       0                  4.82                    4.90   \n",
              "37842                       0                  4.82                    4.90   \n",
              "37843                       0                  4.82                    4.90   \n",
              "37844                       0                  4.82                    4.90   \n",
              "\n",
              "       review_scores_cleanliness  review_scores_checkin  \\\n",
              "0                           4.62                   4.76   \n",
              "1                           4.49                   4.78   \n",
              "2                           4.09                   4.91   \n",
              "3                           5.00                   5.00   \n",
              "4                           3.73                   4.66   \n",
              "...                          ...                    ...   \n",
              "37840                       4.80                   4.96   \n",
              "37841                       4.80                   4.96   \n",
              "37842                       4.80                   4.96   \n",
              "37843                       4.80                   4.96   \n",
              "37844                       4.80                   4.96   \n",
              "\n",
              "       review_scores_communication  review_scores_location  \\\n",
              "0                             4.79                    4.86   \n",
              "1                             4.80                    4.71   \n",
              "2                             4.91                    4.47   \n",
              "3                             5.00                    4.50   \n",
              "4                             4.42                    4.87   \n",
              "...                            ...                     ...   \n",
              "37840                         4.97                    4.88   \n",
              "37841                         4.97                    4.88   \n",
              "37842                         4.97                    4.88   \n",
              "37843                         4.97                    4.88   \n",
              "37844                         4.97                    4.88   \n",
              "\n",
              "       review_scores_value  reviews_per_month  price  \n",
              "0                     4.41               0.33  150.0  \n",
              "1                     4.64               4.86   75.0  \n",
              "2                     4.52               0.52   60.0  \n",
              "3                     5.00               0.02  275.0  \n",
              "4                     4.36               3.68   68.0  \n",
              "...                    ...                ...    ...  \n",
              "37840                 4.78               0.48   79.0  \n",
              "37841                 4.78               0.48   76.0  \n",
              "37842                 4.78               0.48  116.0  \n",
              "37843                 4.78               0.48  106.0  \n",
              "37844                 4.78               0.48  689.0  \n",
              "\n",
              "[37845 rows x 13 columns]"
            ],
            "text/html": [
              "\n",
              "  <div id=\"df-4ab20f3f-19a5-4bf3-8d89-05723c5c6f2a\">\n",
              "    <div class=\"colab-df-container\">\n",
              "      <div>\n",
              "<style scoped>\n",
              "    .dataframe tbody tr th:only-of-type {\n",
              "        vertical-align: middle;\n",
              "    }\n",
              "\n",
              "    .dataframe tbody tr th {\n",
              "        vertical-align: top;\n",
              "    }\n",
              "\n",
              "    .dataframe thead th {\n",
              "        text-align: right;\n",
              "    }\n",
              "</style>\n",
              "<table border=\"1\" class=\"dataframe\">\n",
              "  <thead>\n",
              "    <tr style=\"text-align: right;\">\n",
              "      <th></th>\n",
              "      <th>maximum_nights</th>\n",
              "      <th>number_of_reviews</th>\n",
              "      <th>number_of_reviews_ltm</th>\n",
              "      <th>number_of_reviews_l30d</th>\n",
              "      <th>review_scores_rating</th>\n",
              "      <th>review_scores_accuracy</th>\n",
              "      <th>review_scores_cleanliness</th>\n",
              "      <th>review_scores_checkin</th>\n",
              "      <th>review_scores_communication</th>\n",
              "      <th>review_scores_location</th>\n",
              "      <th>review_scores_value</th>\n",
              "      <th>reviews_per_month</th>\n",
              "      <th>price</th>\n",
              "    </tr>\n",
              "  </thead>\n",
              "  <tbody>\n",
              "    <tr>\n",
              "      <th>0</th>\n",
              "      <td>1125</td>\n",
              "      <td>48</td>\n",
              "      <td>0</td>\n",
              "      <td>0</td>\n",
              "      <td>4.70</td>\n",
              "      <td>4.72</td>\n",
              "      <td>4.62</td>\n",
              "      <td>4.76</td>\n",
              "      <td>4.79</td>\n",
              "      <td>4.86</td>\n",
              "      <td>4.41</td>\n",
              "      <td>0.33</td>\n",
              "      <td>150.0</td>\n",
              "    </tr>\n",
              "    <tr>\n",
              "      <th>1</th>\n",
              "      <td>730</td>\n",
              "      <td>409</td>\n",
              "      <td>32</td>\n",
              "      <td>0</td>\n",
              "      <td>4.45</td>\n",
              "      <td>4.58</td>\n",
              "      <td>4.49</td>\n",
              "      <td>4.78</td>\n",
              "      <td>4.80</td>\n",
              "      <td>4.71</td>\n",
              "      <td>4.64</td>\n",
              "      <td>4.86</td>\n",
              "      <td>75.0</td>\n",
              "    </tr>\n",
              "    <tr>\n",
              "      <th>2</th>\n",
              "      <td>730</td>\n",
              "      <td>50</td>\n",
              "      <td>0</td>\n",
              "      <td>0</td>\n",
              "      <td>4.52</td>\n",
              "      <td>4.22</td>\n",
              "      <td>4.09</td>\n",
              "      <td>4.91</td>\n",
              "      <td>4.91</td>\n",
              "      <td>4.47</td>\n",
              "      <td>4.52</td>\n",
              "      <td>0.52</td>\n",
              "      <td>60.0</td>\n",
              "    </tr>\n",
              "    <tr>\n",
              "      <th>3</th>\n",
              "      <td>1125</td>\n",
              "      <td>2</td>\n",
              "      <td>1</td>\n",
              "      <td>0</td>\n",
              "      <td>5.00</td>\n",
              "      <td>5.00</td>\n",
              "      <td>5.00</td>\n",
              "      <td>5.00</td>\n",
              "      <td>5.00</td>\n",
              "      <td>4.50</td>\n",
              "      <td>5.00</td>\n",
              "      <td>0.02</td>\n",
              "      <td>275.0</td>\n",
              "    </tr>\n",
              "    <tr>\n",
              "      <th>4</th>\n",
              "      <td>14</td>\n",
              "      <td>507</td>\n",
              "      <td>33</td>\n",
              "      <td>2</td>\n",
              "      <td>4.21</td>\n",
              "      <td>4.21</td>\n",
              "      <td>3.73</td>\n",
              "      <td>4.66</td>\n",
              "      <td>4.42</td>\n",
              "      <td>4.87</td>\n",
              "      <td>4.36</td>\n",
              "      <td>3.68</td>\n",
              "      <td>68.0</td>\n",
              "    </tr>\n",
              "    <tr>\n",
              "      <th>...</th>\n",
              "      <td>...</td>\n",
              "      <td>...</td>\n",
              "      <td>...</td>\n",
              "      <td>...</td>\n",
              "      <td>...</td>\n",
              "      <td>...</td>\n",
              "      <td>...</td>\n",
              "      <td>...</td>\n",
              "      <td>...</td>\n",
              "      <td>...</td>\n",
              "      <td>...</td>\n",
              "      <td>...</td>\n",
              "      <td>...</td>\n",
              "    </tr>\n",
              "    <tr>\n",
              "      <th>37840</th>\n",
              "      <td>1125</td>\n",
              "      <td>0</td>\n",
              "      <td>0</td>\n",
              "      <td>0</td>\n",
              "      <td>4.82</td>\n",
              "      <td>4.90</td>\n",
              "      <td>4.80</td>\n",
              "      <td>4.96</td>\n",
              "      <td>4.97</td>\n",
              "      <td>4.88</td>\n",
              "      <td>4.78</td>\n",
              "      <td>0.48</td>\n",
              "      <td>79.0</td>\n",
              "    </tr>\n",
              "    <tr>\n",
              "      <th>37841</th>\n",
              "      <td>1125</td>\n",
              "      <td>0</td>\n",
              "      <td>0</td>\n",
              "      <td>0</td>\n",
              "      <td>4.82</td>\n",
              "      <td>4.90</td>\n",
              "      <td>4.80</td>\n",
              "      <td>4.96</td>\n",
              "      <td>4.97</td>\n",
              "      <td>4.88</td>\n",
              "      <td>4.78</td>\n",
              "      <td>0.48</td>\n",
              "      <td>76.0</td>\n",
              "    </tr>\n",
              "    <tr>\n",
              "      <th>37842</th>\n",
              "      <td>1125</td>\n",
              "      <td>0</td>\n",
              "      <td>0</td>\n",
              "      <td>0</td>\n",
              "      <td>4.82</td>\n",
              "      <td>4.90</td>\n",
              "      <td>4.80</td>\n",
              "      <td>4.96</td>\n",
              "      <td>4.97</td>\n",
              "      <td>4.88</td>\n",
              "      <td>4.78</td>\n",
              "      <td>0.48</td>\n",
              "      <td>116.0</td>\n",
              "    </tr>\n",
              "    <tr>\n",
              "      <th>37843</th>\n",
              "      <td>1125</td>\n",
              "      <td>0</td>\n",
              "      <td>0</td>\n",
              "      <td>0</td>\n",
              "      <td>4.82</td>\n",
              "      <td>4.90</td>\n",
              "      <td>4.80</td>\n",
              "      <td>4.96</td>\n",
              "      <td>4.97</td>\n",
              "      <td>4.88</td>\n",
              "      <td>4.78</td>\n",
              "      <td>0.48</td>\n",
              "      <td>106.0</td>\n",
              "    </tr>\n",
              "    <tr>\n",
              "      <th>37844</th>\n",
              "      <td>28</td>\n",
              "      <td>0</td>\n",
              "      <td>0</td>\n",
              "      <td>0</td>\n",
              "      <td>4.82</td>\n",
              "      <td>4.90</td>\n",
              "      <td>4.80</td>\n",
              "      <td>4.96</td>\n",
              "      <td>4.97</td>\n",
              "      <td>4.88</td>\n",
              "      <td>4.78</td>\n",
              "      <td>0.48</td>\n",
              "      <td>689.0</td>\n",
              "    </tr>\n",
              "  </tbody>\n",
              "</table>\n",
              "<p>37845 rows × 13 columns</p>\n",
              "</div>\n",
              "      <button class=\"colab-df-convert\" onclick=\"convertToInteractive('df-4ab20f3f-19a5-4bf3-8d89-05723c5c6f2a')\"\n",
              "              title=\"Convert this dataframe to an interactive table.\"\n",
              "              style=\"display:none;\">\n",
              "        \n",
              "  <svg xmlns=\"http://www.w3.org/2000/svg\" height=\"24px\"viewBox=\"0 0 24 24\"\n",
              "       width=\"24px\">\n",
              "    <path d=\"M0 0h24v24H0V0z\" fill=\"none\"/>\n",
              "    <path d=\"M18.56 5.44l.94 2.06.94-2.06 2.06-.94-2.06-.94-.94-2.06-.94 2.06-2.06.94zm-11 1L8.5 8.5l.94-2.06 2.06-.94-2.06-.94L8.5 2.5l-.94 2.06-2.06.94zm10 10l.94 2.06.94-2.06 2.06-.94-2.06-.94-.94-2.06-.94 2.06-2.06.94z\"/><path d=\"M17.41 7.96l-1.37-1.37c-.4-.4-.92-.59-1.43-.59-.52 0-1.04.2-1.43.59L10.3 9.45l-7.72 7.72c-.78.78-.78 2.05 0 2.83L4 21.41c.39.39.9.59 1.41.59.51 0 1.02-.2 1.41-.59l7.78-7.78 2.81-2.81c.8-.78.8-2.07 0-2.86zM5.41 20L4 18.59l7.72-7.72 1.47 1.35L5.41 20z\"/>\n",
              "  </svg>\n",
              "      </button>\n",
              "      \n",
              "  <style>\n",
              "    .colab-df-container {\n",
              "      display:flex;\n",
              "      flex-wrap:wrap;\n",
              "      gap: 12px;\n",
              "    }\n",
              "\n",
              "    .colab-df-convert {\n",
              "      background-color: #E8F0FE;\n",
              "      border: none;\n",
              "      border-radius: 50%;\n",
              "      cursor: pointer;\n",
              "      display: none;\n",
              "      fill: #1967D2;\n",
              "      height: 32px;\n",
              "      padding: 0 0 0 0;\n",
              "      width: 32px;\n",
              "    }\n",
              "\n",
              "    .colab-df-convert:hover {\n",
              "      background-color: #E2EBFA;\n",
              "      box-shadow: 0px 1px 2px rgba(60, 64, 67, 0.3), 0px 1px 3px 1px rgba(60, 64, 67, 0.15);\n",
              "      fill: #174EA6;\n",
              "    }\n",
              "\n",
              "    [theme=dark] .colab-df-convert {\n",
              "      background-color: #3B4455;\n",
              "      fill: #D2E3FC;\n",
              "    }\n",
              "\n",
              "    [theme=dark] .colab-df-convert:hover {\n",
              "      background-color: #434B5C;\n",
              "      box-shadow: 0px 1px 3px 1px rgba(0, 0, 0, 0.15);\n",
              "      filter: drop-shadow(0px 1px 2px rgba(0, 0, 0, 0.3));\n",
              "      fill: #FFFFFF;\n",
              "    }\n",
              "  </style>\n",
              "\n",
              "      <script>\n",
              "        const buttonEl =\n",
              "          document.querySelector('#df-4ab20f3f-19a5-4bf3-8d89-05723c5c6f2a button.colab-df-convert');\n",
              "        buttonEl.style.display =\n",
              "          google.colab.kernel.accessAllowed ? 'block' : 'none';\n",
              "\n",
              "        async function convertToInteractive(key) {\n",
              "          const element = document.querySelector('#df-4ab20f3f-19a5-4bf3-8d89-05723c5c6f2a');\n",
              "          const dataTable =\n",
              "            await google.colab.kernel.invokeFunction('convertToInteractive',\n",
              "                                                     [key], {});\n",
              "          if (!dataTable) return;\n",
              "\n",
              "          const docLinkHtml = 'Like what you see? Visit the ' +\n",
              "            '<a target=\"_blank\" href=https://colab.research.google.com/notebooks/data_table.ipynb>data table notebook</a>'\n",
              "            + ' to learn more about interactive tables.';\n",
              "          element.innerHTML = '';\n",
              "          dataTable['output_type'] = 'display_data';\n",
              "          await google.colab.output.renderOutput(dataTable, element);\n",
              "          const docLink = document.createElement('div');\n",
              "          docLink.innerHTML = docLinkHtml;\n",
              "          element.appendChild(docLink);\n",
              "        }\n",
              "      </script>\n",
              "    </div>\n",
              "  </div>\n",
              "  "
            ]
          },
          "metadata": {},
          "execution_count": 55
        }
      ]
    }
  ]
}